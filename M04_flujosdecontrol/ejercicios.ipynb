{
 "cells": [
  {
   "cell_type": "code",
   "execution_count": 3,
   "metadata": {},
   "outputs": [
    {
     "name": "stdout",
     "output_type": "stream",
     "text": [
      "La raíz cuadrada de 0 es 0\n"
     ]
    }
   ],
   "source": [
    "objetivo = int(input('Escoge un entero: '))\n",
    "\n",
    "\"\"\"Inicializamos respuesta como 0\"\"\"\n",
    "respuesta = 0\n",
    "\n",
    "\"\"\"Mientras respuesta^2 sea menor que nuestro numero objetivo.\"\"\"\n",
    "while respuesta**2 < objetivo:\n",
    "    respuesta += 1  # Respuesta aumentara en 1.\n",
    "\n",
    "if respuesta**2 == objetivo:\n",
    "    print(f'La raíz cuadrada de {objetivo} es {respuesta}')\n",
    "\n",
    "else:\n",
    "    print(f'{objetivo} no tiene una raíz cuadrada exacta')"
   ]
  },
  {
   "cell_type": "code",
   "execution_count": 4,
   "metadata": {},
   "outputs": [
    {
     "name": "stdout",
     "output_type": "stream",
     "text": [
      "La raiz cuadrada de 5 es 2.2339000000002898\n"
     ]
    }
   ],
   "source": [
    "objetivo = int(input('Escoge un numero: '))\n",
    "\n",
    "epsilon = 0.01      # Definimos un margen de error.\n",
    "paso = epsilon**2   # Los pasos para buscar la raíz sera igual a epsilon^2\n",
    "respuesta = 0       # Inicializamos una respuesta 0\n",
    "\n",
    "\n",
    "while abs(respuesta**2 - objetivo) >= epsilon and respuesta <= objetivo:\n",
    "    respuesta += paso\n",
    "\n",
    "if abs(respuesta**2 - objetivo) >= epsilon:\n",
    "    print(f'No se encontró la raiz cuadrada de {objetivo}')\n",
    "else:\n",
    "    print(f'La raiz cuadrada de {objetivo} es {respuesta}')"
   ]
  },
  {
   "cell_type": "code",
   "execution_count": 5,
   "metadata": {},
   "outputs": [
    {
     "name": "stdout",
     "output_type": "stream",
     "text": [
      "La raíz cuadrada de 5 es 2.236328125\n"
     ]
    }
   ],
   "source": [
    "objetivo = int(input('Escoge un numero: '))\n",
    "\n",
    "epsilon = 0.01  # Definimos nuestro margen de error.\n",
    "\n",
    "bajo = 0.0      # Inicializamos la parte baja de nuestra búsqueda como 0\n",
    "alto = max(1.0, objetivo)   # Entre el numero que ingresamos y 1 vamos a tomar el mayor valor.\n",
    "respuesta = (alto + bajo) / 2   # Definimos la mitad entre bajo y alto.\n",
    "\n",
    "# Mientras el margen de error sea mayor a epsilon.\n",
    "while abs(respuesta**2 - objetivo) >= epsilon:\n",
    "\n",
    "    # Si ((alto+bajo)/2)^2 es menor a nuestro numero objetivo\n",
    "    if respuesta**2 < objetivo:\n",
    "        \n",
    "        # Definimos la parte baja de nuestra búsqueda como (alto + bajo)/2\n",
    "        bajo = respuesta\n",
    "\n",
    "    # En caso que (alto+bajo)/2 es mayor a nuestro numero objetivo\n",
    "    else: \n",
    "        # Definimos la parte baja de nuestra búsqueda como (alto + bajo)/2\n",
    "        alto = respuesta\n",
    "\n",
    "    # Luego definimos nuevamente la mitad entre alto y bajo.\n",
    "    respuesta = (alto + bajo) / 2\n",
    "\n",
    "# Cuando el ciclo ya alcance un error menor a epsilon imprimiremos el resultado.\n",
    "print(f'La raíz cuadrada de {objetivo} es {respuesta}')"
   ]
  }
 ],
 "metadata": {
  "kernelspec": {
   "display_name": "Python 3",
   "language": "python",
   "name": "python3"
  },
  "language_info": {
   "codemirror_mode": {
    "name": "ipython",
    "version": 3
   },
   "file_extension": ".py",
   "mimetype": "text/x-python",
   "name": "python",
   "nbconvert_exporter": "python",
   "pygments_lexer": "ipython3",
   "version": "3.11.-1"
  },
  "orig_nbformat": 4
 },
 "nbformat": 4,
 "nbformat_minor": 2
}
