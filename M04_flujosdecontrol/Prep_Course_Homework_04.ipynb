{
 "cells": [
  {
   "attachments": {},
   "cell_type": "markdown",
   "metadata": {},
   "source": [
    "## Flujos de Control"
   ]
  },
  {
   "attachments": {},
   "cell_type": "markdown",
   "metadata": {},
   "source": [
    "1) Crear una variable que contenga un elemento del conjunto de números enteros y luego imprimir por pantalla si es mayor o menor a cero"
   ]
  },
  {
   "cell_type": "code",
   "execution_count": 2,
   "metadata": {},
   "outputs": [
    {
     "name": "stdout",
     "output_type": "stream",
     "text": [
      "el numero es menor a cero\n"
     ]
    }
   ],
   "source": [
    "num = -1\n",
    "if (num > 0):\n",
    "    print(\"el numero es mayor que cero\")\n",
    "else:\n",
    "    print(\"el numero es menor a cero\")"
   ]
  },
  {
   "attachments": {},
   "cell_type": "markdown",
   "metadata": {},
   "source": [
    "2) Crear dos variables y un condicional que informe si son del mismo tipo de dato"
   ]
  },
  {
   "cell_type": "code",
   "execution_count": 4,
   "metadata": {},
   "outputs": [
    {
     "name": "stdout",
     "output_type": "stream",
     "text": [
      "las variables son de diferentes tipos\n"
     ]
    }
   ],
   "source": [
    "v1 = \"3\"\n",
    "v2 = 4\n",
    "if(type(v1) == type(v2)):\n",
    "    print(\"el tipo de dato de las 2 variables son iguales\")\n",
    "else:\n",
    "    print(\"las variables son de diferentes tipos\")"
   ]
  },
  {
   "attachments": {},
   "cell_type": "markdown",
   "metadata": {},
   "source": [
    "3) Para los valores enteros del 1 al 20, imprimir por pantalla si es par o impar"
   ]
  },
  {
   "cell_type": "code",
   "execution_count": 10,
   "metadata": {},
   "outputs": [
    {
     "name": "stdout",
     "output_type": "stream",
     "text": [
      "el numero:  2 es par\n",
      "el numero:  3 es impar\n",
      "el numero:  4 es par\n",
      "el numero:  5 es impar\n",
      "el numero:  6 es par\n",
      "el numero:  7 es impar\n",
      "el numero:  8 es par\n",
      "el numero:  9 es impar\n",
      "el numero:  10 es par\n",
      "el numero:  11 es impar\n",
      "el numero:  12 es par\n",
      "el numero:  13 es impar\n",
      "el numero:  14 es par\n",
      "el numero:  15 es impar\n",
      "el numero:  16 es par\n",
      "el numero:  17 es impar\n",
      "el numero:  18 es par\n",
      "el numero:  19 es impar\n",
      "el numero:  20 es par\n"
     ]
    }
   ],
   "source": [
    "for v in range(1,20):\n",
    "    num = v+1\n",
    "    if(num%2 == 0):\n",
    "        print(\"el numero: \",  num,  \"es par\")\n",
    "    else:\n",
    "        print(\"el numero: \", num, \"es impar\")"
   ]
  },
  {
   "attachments": {},
   "cell_type": "markdown",
   "metadata": {},
   "source": [
    "4) En un ciclo for mostrar para los valores entre 0 y 5 el resultado de elevarlo a la potencia igual a 3"
   ]
  },
  {
   "cell_type": "code",
   "execution_count": 29,
   "metadata": {},
   "outputs": [
    {
     "name": "stdout",
     "output_type": "stream",
     "text": [
      "el numero:  0 **3 es igual a 0\n",
      "el numero:  1 **3 es igual a 1\n",
      "el numero:  2 **3 es igual a 8\n",
      "el numero:  3 **3 es igual a 27\n",
      "el numero:  4 **3 es igual a 64\n",
      "el numero:  5 **3 es igual a 125\n",
      "el numero:  6  al ser mayor o igual a 6 no es tenido en cuenta\n",
      "el numero:  7  al ser mayor o igual a 6 no es tenido en cuenta\n",
      "el numero:  8  al ser mayor o igual a 6 no es tenido en cuenta\n",
      "el numero:  9  al ser mayor o igual a 6 no es tenido en cuenta\n"
     ]
    }
   ],
   "source": [
    "for potencia in range(0,10):\n",
    "    if potencia <= 5:\n",
    "        #potencia**3\n",
    "        print(\"el numero: \", potencia,\"**3 es igual a\", potencia**3 )\n",
    "    else:\n",
    "        print(\"el numero: \", potencia, \" al ser mayor o igual a 6 no es tenido en cuenta\")"
   ]
  },
  {
   "attachments": {},
   "cell_type": "markdown",
   "metadata": {},
   "source": [
    "5) Crear una variable que contenga un número entero y realizar un ciclo for la misma cantidad de ciclos"
   ]
  },
  {
   "cell_type": "code",
   "execution_count": 39,
   "metadata": {},
   "outputs": [
    {
     "name": "stdout",
     "output_type": "stream",
     "text": [
      "el cicle intera:  1\n",
      "el cicle intera:  2\n",
      "el cicle intera:  3\n",
      "el cicle intera:  4\n",
      "el cicle intera:  5\n",
      "el cicle intera:  6\n",
      "el cicle intera:  7\n",
      "el cicle intera:  8\n",
      "el cicle intera:  9\n",
      "el cicle intera:  10\n"
     ]
    }
   ],
   "source": [
    "j = 10\n",
    "for i in range(0, j):\n",
    "    iteracion= i+1\n",
    "    print(\"el cicle intera: \", iteracion)"
   ]
  },
  {
   "attachments": {},
   "cell_type": "markdown",
   "metadata": {},
   "source": [
    "6) Utilizar un ciclo while para realizar el factorial de un número guardado en una variable, sólo si la variable contiene un número entero mayor a 0"
   ]
  },
  {
   "cell_type": "code",
   "execution_count": 55,
   "metadata": {},
   "outputs": [
    {
     "name": "stdout",
     "output_type": "stream",
     "text": [
      "El factorial es 24\n"
     ]
    }
   ],
   "source": [
    "n = 4\n",
    "if (type(n) == int):\n",
    "    if (n > 0):\n",
    "        factorial = n\n",
    "        while (n > 2):\n",
    "            n = n - 1\n",
    "            factorial = factorial * n\n",
    "        print('El factorial es', factorial)\n",
    "    else:\n",
    "        print('La variable no es mayor a cero')\n",
    "else:\n",
    "    print('La variable no es un entero')\n",
    "   "
   ]
  },
  {
   "attachments": {},
   "cell_type": "markdown",
   "metadata": {},
   "source": [
    "7) Crear un ciclo for dentro de un ciclo while"
   ]
  },
  {
   "cell_type": "code",
   "execution_count": 64,
   "metadata": {},
   "outputs": [
    {
     "name": "stdout",
     "output_type": "stream",
     "text": [
      "valor while:   1\n",
      "valor for   1\n",
      "valor while:   2\n",
      "valor for   1\n",
      "valor for   2\n",
      "valor while:   3\n",
      "valor for   1\n",
      "valor for   2\n",
      "valor for   3\n",
      "valor while:   4\n",
      "valor for   1\n",
      "valor for   2\n",
      "valor for   3\n",
      "valor for   4\n",
      "valor while:   5\n",
      "valor for   1\n",
      "valor for   2\n",
      "valor for   3\n",
      "valor for   4\n",
      "valor for   5\n"
     ]
    }
   ],
   "source": [
    "n = 1\n",
    "while n <= 5:\n",
    "    print('valor while:  ', n)  # Imprime el número del while\n",
    "    for i in range(1, n+1):\n",
    "        print('valor for  ', i)  # Imprime el número del ciclo for\n",
    "    n += 1"
   ]
  },
  {
   "attachments": {},
   "cell_type": "markdown",
   "metadata": {},
   "source": [
    "8) Crear un ciclo while dentro de un ciclo for"
   ]
  },
  {
   "cell_type": "code",
   "execution_count": 88,
   "metadata": {},
   "outputs": [
    {
     "name": "stdout",
     "output_type": "stream",
     "text": [
      "valor for :  1\n",
      "valor while :  3\n",
      "valor while :  2\n",
      "valor while :  1\n",
      "valor for :  2\n",
      "valor while :  3\n",
      "valor while :  2\n",
      "valor while :  1\n",
      "valor for :  3\n",
      "valor while :  3\n",
      "valor while :  2\n",
      "valor while :  1\n"
     ]
    }
   ],
   "source": [
    "n = 3\n",
    "for i in range(1, n+1):\n",
    "    print('valor for : ', i)    \n",
    "    temp = n \n",
    "    \n",
    "    while temp > 0:  #  mientras n_temp sea mayor que 0\n",
    "        print('valor while : ', temp) \n",
    "        temp -= 1\n",
    "        \n",
    "        if temp <= 0:\n",
    "            break  # Sale del ciclo while cuando n_temp sea menor o igual a 0\n",
    "    \n",
    "\n",
    "        "
   ]
  },
  {
   "attachments": {},
   "cell_type": "markdown",
   "metadata": {},
   "source": [
    "9) Imprimir los números primos existentes entre 0 y 30"
   ]
  },
  {
   "cell_type": "code",
   "execution_count": 93,
   "metadata": {},
   "outputs": [
    {
     "name": "stdout",
     "output_type": "stream",
     "text": [
      "0\n",
      "1\n",
      "2\n",
      "3\n",
      "5\n",
      "7\n",
      "11\n",
      "13\n",
      "17\n",
      "19\n",
      "23\n",
      "29\n"
     ]
    }
   ],
   "source": [
    "tope_rango=30\n",
    "n = 0\n",
    "primo = True\n",
    "while (n < tope_rango):\n",
    "    for div in range(2, n):\n",
    "        if (n % div == 0):\n",
    "            primo = False\n",
    "    if (primo):\n",
    "        print(n)\n",
    "    else:\n",
    "        primo = True\n",
    "    n += 1\n",
    "       "
   ]
  },
  {
   "attachments": {},
   "cell_type": "markdown",
   "metadata": {},
   "source": [
    "10) ¿Se puede mejorar el proceso del punto 9? Utilizar las sentencias break y/ó continue para tal fin"
   ]
  },
  {
   "cell_type": "code",
   "execution_count": 94,
   "metadata": {},
   "outputs": [
    {
     "name": "stdout",
     "output_type": "stream",
     "text": [
      "0\n",
      "1\n",
      "2\n",
      "3\n",
      "5\n",
      "7\n",
      "11\n",
      "13\n",
      "17\n",
      "19\n",
      "23\n",
      "29\n"
     ]
    }
   ],
   "source": [
    "n = 0\n",
    "primo = True\n",
    "while (n < tope_rango):\n",
    "    for div in range(2, n):\n",
    "        if (n % div == 0):\n",
    "            primo = False\n",
    "            break\n",
    "    if (primo):\n",
    "        print(n)\n",
    "    else:\n",
    "        primo = True\n",
    "    n += 1"
   ]
  },
  {
   "attachments": {},
   "cell_type": "markdown",
   "metadata": {},
   "source": [
    "11) En los puntos 9 y 10, se diseño un código que encuentra números primos y además se lo optimizó. ¿Es posible saber en qué medida se optimizó?"
   ]
  },
  {
   "cell_type": "code",
   "execution_count": 99,
   "metadata": {},
   "outputs": [
    {
     "name": "stdout",
     "output_type": "stream",
     "text": [
      "0\n",
      "1\n",
      "2\n",
      "3\n",
      "5\n",
      "7\n",
      "11\n",
      "13\n",
      "17\n",
      "19\n",
      "23\n",
      "29\n",
      "Cantidad de ciclos: 134\n",
      "Se optimizó a un 1.0% de ciclos aplicando break\n"
     ]
    }
   ],
   "source": [
    "ciclos_con_break = 0\n",
    "#ciclos_sin_break = 0\n",
    "n = 0\n",
    "primo = True\n",
    "while (n < tope_rango):\n",
    "    for div in range(2, n):\n",
    "        #ciclos_sin_break += 1\n",
    "        ciclos_con_break += 1\n",
    "        if (n % div == 0):\n",
    "            primo = False\n",
    "            break\n",
    "    if (primo):\n",
    "        print(n)\n",
    "    else:\n",
    "        primo = True\n",
    "    n += 1\n",
    "#print('Cantidad de ciclos: ' + str(ciclos_sin_break))\n",
    "print('Cantidad de ciclos: ' + str(ciclos_con_break))\n",
    "print('Se optimizó a un ' + str(ciclos_con_break/ciclos_sin_break) + '% de ciclos aplicando break')\n"
   ]
  },
  {
   "attachments": {},
   "cell_type": "markdown",
   "metadata": {},
   "source": [
    "12) Aplicando continue, armar un ciclo while que solo imprima los valores divisibles por 12, dentro del rango de números de 100 a 300"
   ]
  },
  {
   "cell_type": "code",
   "execution_count": 100,
   "metadata": {},
   "outputs": [
    {
     "name": "stdout",
     "output_type": "stream",
     "text": [
      "108  es divisible por 12\n",
      "120  es divisible por 12\n",
      "132  es divisible por 12\n",
      "144  es divisible por 12\n",
      "156  es divisible por 12\n",
      "168  es divisible por 12\n",
      "180  es divisible por 12\n",
      "192  es divisible por 12\n",
      "204  es divisible por 12\n",
      "216  es divisible por 12\n",
      "228  es divisible por 12\n",
      "240  es divisible por 12\n",
      "252  es divisible por 12\n",
      "264  es divisible por 12\n",
      "276  es divisible por 12\n",
      "288  es divisible por 12\n",
      "300  es divisible por 12\n"
     ]
    }
   ],
   "source": [
    "n = 99\n",
    "while(n <= 300):\n",
    "    n += 1\n",
    "    if (n % 12 != 0):\n",
    "        continue\n",
    "    print(n, ' es divisible por 12')"
   ]
  },
  {
   "attachments": {},
   "cell_type": "markdown",
   "metadata": {},
   "source": [
    "13) Utilizar la función **input()** que permite hacer ingresos por teclado, para encontrar números primos y dar la opción al usario de buscar el siguiente"
   ]
  },
  {
   "cell_type": "code",
   "execution_count": 109,
   "metadata": {},
   "outputs": [
    {
     "name": "stdout",
     "output_type": "stream",
     "text": [
      "1\n",
      "¿Desea encontrar el siguiente número primo?\n"
     ]
    },
    {
     "name": "stdout",
     "output_type": "stream",
     "text": [
      "2\n",
      "¿Desea encontrar el siguiente número primo?\n",
      "3\n",
      "¿Desea encontrar el siguiente número primo?\n",
      "5\n",
      "¿Desea encontrar el siguiente número primo?\n",
      "7\n",
      "¿Desea encontrar el siguiente número primo?\n",
      "11\n",
      "¿Desea encontrar el siguiente número primo?\n",
      "13\n",
      "¿Desea encontrar el siguiente número primo?\n",
      "17\n",
      "¿Desea encontrar el siguiente número primo?\n",
      "19\n",
      "¿Desea encontrar el siguiente número primo?\n",
      "23\n",
      "¿Desea encontrar el siguiente número primo?\n",
      "29\n",
      "¿Desea encontrar el siguiente número primo?\n",
      "31\n",
      "¿Desea encontrar el siguiente número primo?\n",
      "Se finaliza el proceso\n"
     ]
    }
   ],
   "source": [
    "n = 1\n",
    "sigue = 1\n",
    "primo = True\n",
    "while (sigue == 1):\n",
    "    for div in range(2, n):\n",
    "        if (n % div == 0):\n",
    "            primo = False\n",
    "            break\n",
    "    if (primo):\n",
    "        print(n)\n",
    "        print('¿Desea encontrar el siguiente número primo?')\n",
    "        if (input() != '1'):\n",
    "            print('Se finaliza el proceso')\n",
    "            break\n",
    "    else:\n",
    "        primo = True\n",
    "    n += 1\n",
    "    \n"
   ]
  },
  {
   "attachments": {},
   "cell_type": "markdown",
   "metadata": {},
   "source": [
    "14) Crear un ciclo while que encuentre dentro del rango de 100 a 300 el primer número divisible por 3 y además múltiplo de 6"
   ]
  },
  {
   "cell_type": "code",
   "execution_count": 144,
   "metadata": {},
   "outputs": [
    {
     "name": "stdout",
     "output_type": "stream",
     "text": [
      "102  es divisible por 3\n",
      "102  es multiplo del 6\n"
     ]
    }
   ],
   "source": [
    "n = 99\n",
    "while(n <= 300):\n",
    "    n += 1\n",
    "    if (n % 3 == 0):\n",
    "        print(n, ' es divisible por 3')\n",
    "        if(n % 6 == 0):\n",
    "            print(n, ' es multiplo del 6')\n",
    "        break\n",
    " "
   ]
  }
 ],
 "metadata": {
  "interpreter": {
   "hash": "c85384e4cb51c8b72350f3a8712cc8351fdc3955e32a27f9b60c6242ab125f01"
  },
  "kernelspec": {
   "display_name": "Python 3 (ipykernel)",
   "language": "python",
   "name": "python3"
  },
  "language_info": {
   "codemirror_mode": {
    "name": "ipython",
    "version": 3
   },
   "file_extension": ".py",
   "mimetype": "text/x-python",
   "name": "python",
   "nbconvert_exporter": "python",
   "pygments_lexer": "ipython3",
   "version": "3.11.5"
  }
 },
 "nbformat": 4,
 "nbformat_minor": 4
}
