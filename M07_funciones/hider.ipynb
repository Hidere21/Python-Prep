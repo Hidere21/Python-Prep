{
 "cells": [
  {
   "cell_type": "code",
   "execution_count": 1,
   "metadata": {},
   "outputs": [
    {
     "data": {
      "text/plain": [
       "5"
      ]
     },
     "execution_count": 1,
     "metadata": {},
     "output_type": "execute_result"
    }
   ],
   "source": [
    "\"\"\"Las funciones se definen con 'def' luego del nombre y los parámetros que necesitara.\"\"\"\n",
    "def nombre(parámetros):\n",
    "\n",
    "    \"\"\"Ejecutamos las expresiones que necesitemos\"\"\"\n",
    "    cuerpo\n",
    "\n",
    "    \"\"\"Y retornaremos el valor que queramos. El return no es obligatorio.\"\"\"\n",
    "    return expresion\n",
    "\n",
    "\"\"\"Aquí definimos una función suma\"\"\"\n",
    "def suma(a, b):\n",
    "    total = a + b\n",
    "    return total\n",
    "\n",
    "\"\"\"Y para ejecutarlo simplemente llamamos a la\n",
    "función por su nombre e ingresamos los parámetros que necesita\"\"\"\n",
    "suma(2, 3)"
   ]
  },
  {
   "cell_type": "code",
   "execution_count": 4,
   "metadata": {},
   "outputs": [
    {
     "data": {
      "text/plain": [
       "'Hider Rosero'"
      ]
     },
     "execution_count": 4,
     "metadata": {},
     "output_type": "execute_result"
    }
   ],
   "source": [
    "\"\"\"Definimos una función con valor por defecto de \"inverso = False\"\"\"\n",
    "def nombre_completo(nombre, apellido, inverso=False):\n",
    "    if inverso:\n",
    "        return f'{apellido} {nombre}'\n",
    "    else:\n",
    "        return f'{nombre} {apellido}'\n",
    "\n",
    "\"\"\"De forma ordena ingreso los valores a los parámetros de la función.\n",
    "Sin embargo no es necesario ingresar un valor para \"inverso\", ya que\n",
    "tiene un valor por defecto ya asignado\"\"\"\n",
    "nombre_completo('Karl', 'Behrens')\n",
    "\n",
    "\"\"\"En este caso ingresaremos el valor 'True' para 'inverso' \"\"\"\n",
    "nombre_completo('Karl', 'Behrens', inverso=True)\n",
    "\n",
    "\"\"\"Con Keywords podemos ingresar las variables en el orden que\n",
    "deseamos mientras llamemos el valor del parámetro y\n",
    "le asignamos el valor.\"\"\"\n",
    "nombre_completo(apellido='Rosero', nombre='Hider')"
   ]
  },
  {
   "cell_type": "code",
   "execution_count": 5,
   "metadata": {},
   "outputs": [
    {
     "data": {
      "text/plain": [
       "7"
      ]
     },
     "execution_count": 5,
     "metadata": {},
     "output_type": "execute_result"
    }
   ],
   "source": [
    "def func1(un_arg, una_func):\n",
    "    def func2(otro_arg):\n",
    "        return otro_arg * 2\n",
    "\n",
    "    valor = func2(un_arg)\n",
    "    return una_func(valor)\n",
    "\n",
    "un_arg = 1\n",
    "\n",
    "def cualquier_func(cualquier_arg):\n",
    "    return cualquier_arg + 5\n",
    "\n",
    "func1(un_arg, cualquier_func)"
   ]
  },
  {
   "cell_type": "code",
   "execution_count": 7,
   "metadata": {},
   "outputs": [
    {
     "name": "stdout",
     "output_type": "stream",
     "text": [
      "120\n"
     ]
    }
   ],
   "source": [
    "def factorial(n):\n",
    "    \"\"\"Calcula el factorial de n\n",
    "\n",
    "    n int > 0\n",
    "    return n!\n",
    "    \"\"\"\n",
    "\n",
    "    # Para que la recursividad no sea infinita\n",
    "    # definimos en que momento terminara.\n",
    "    if n == 1:\n",
    "        return 1\n",
    "\n",
    "    # Llamamos a la función \"factorial\" a si misma\n",
    "    # pero el valor de n va disminuyendo en 1\n",
    "    # a medida que se repite su llamado.\n",
    "    return n * factorial(n - 1)\n",
    "\n",
    "n = int(input('Escribe un entero: '))\n",
    "\n",
    "print(factorial(n))"
   ]
  },
  {
   "cell_type": "code",
   "execution_count": 20,
   "metadata": {},
   "outputs": [],
   "source": [
    "def multiplicar_por_dos(n):\n",
    "    return n * 2\n",
    "\n",
    "def sumar_dos(n):\n",
    "    return n + 2\n",
    "\n",
    "def aplicar_operacion(f, numeros):\n",
    "    resultados = []\n",
    "    for numero in numeros:\n",
    "        resultado = f(numero)\n",
    "        resultados.append(resultado)\n",
    "\n",
    "nums = [1, 2, 3]\n",
    "aplicar_operacion(multiplicar_por_dos, nums)\n",
    "\n",
    "\n",
    "aplicar_operacion(sumar_dos, nums)\n"
   ]
  },
  {
   "cell_type": "code",
   "execution_count": 29,
   "metadata": {},
   "outputs": [
    {
     "data": {
      "text/plain": [
       "[-2, 2, '-2', -2.0]"
      ]
     },
     "execution_count": 29,
     "metadata": {},
     "output_type": "execute_result"
    }
   ],
   "source": [
    "def aplicar_operaciones(num):\n",
    "    operaciones = [int, abs, str, float]\n",
    "\n",
    "    resultado = []\n",
    "    for operacion in operaciones:\n",
    "        resultado.append(operacion(num))\n",
    "\n",
    "    return resultado\n",
    "\n",
    "aplicar_operaciones(-2)\n"
   ]
  },
  {
   "cell_type": "code",
   "execution_count": null,
   "metadata": {},
   "outputs": [
    {
     "data": {
      "text/plain": [
       "5"
      ]
     },
     "execution_count": 10,
     "metadata": {},
     "output_type": "execute_result"
    }
   ],
   "source": [
    "sumar = lambda x, y: x + y\n",
    "\n",
    "sumar(2, 3)\n"
   ]
  },
  {
   "cell_type": "code",
   "execution_count": 41,
   "metadata": {},
   "outputs": [
    {
     "data": {
      "text/plain": [
       "[2, -2.0, -2]"
      ]
     },
     "execution_count": 41,
     "metadata": {},
     "output_type": "execute_result"
    }
   ],
   "source": [
    "def aplicar_operaciones(num):\n",
    "    operaciones = [abs, float, int]\n",
    "\n",
    "    resultado = []\n",
    "    for operacion in operaciones:\n",
    "        resultado.append(operacion(num))\n",
    "\n",
    "    return resultado\n",
    "\n",
    "aplicar_operaciones(-2)\n"
   ]
  },
  {
   "cell_type": "code",
   "execution_count": null,
   "metadata": {},
   "outputs": [],
   "source": [
    "def coordenadas():\n",
    "\n",
    "    \"\"\"En nuestra función devolveremos la tupla (5, 4).\"\"\"\n",
    "    return (5,4)\n",
    "\n",
    "\"\"\"Si ejecutamos la función vamos a recibir la tupla.\"\"\"\n",
    "coordenadas()\n",
    "\n",
    "\n",
    "\"\"\"También podemos \"desempaquetar\" la tupla que recibimos,\n",
    "esto significa que podemos asignar cada valor que nos llega de la\n",
    "tupla a variables que definamos.\"\"\"\n",
    "x, y = coordenadas()\n",
    "\n",
    "\"\"\"Si imprimimos la primera variable desempaquetada veremos\n",
    "el primer valor de la tupla.\"\"\"\n",
    "x\n",
    "\n",
    "\n",
    "\"\"\"Y muy parecido al ejemplo anterior, con nuestra\n",
    "variable \"y\" tendremos el segundo valor.\"\"\"\n",
    "y\n"
   ]
  },
  {
   "cell_type": "code",
   "execution_count": 42,
   "metadata": {},
   "outputs": [
    {
     "name": "stdout",
     "output_type": "stream",
     "text": [
      "0\n",
      "1\n",
      "2\n",
      "3\n",
      "4\n"
     ]
    }
   ],
   "source": [
    "\"\"\"Creamos un rango del 0 al 5 (el ultimo numero no se incluye)\"\"\"\n",
    "my_range = range(0, 5)\n",
    "\n",
    "\"\"\"Si realizamos un for loop en nuestro rango\n",
    "e imprimimos el valor de i veremos\n",
    "que nos imprime desde el 0 al 4.\"\"\"\n",
    "for i in my_range:\n",
    "    print(i)"
   ]
  },
  {
   "cell_type": "code",
   "execution_count": 46,
   "metadata": {},
   "outputs": [
    {
     "name": "stdout",
     "output_type": "stream",
     "text": [
      "0\n",
      "2\n",
      "4\n",
      "6\n"
     ]
    }
   ],
   "source": [
    "\"\"\"Creamos un rango del 0 al 7, pero esta\n",
    "vez ira saltando de 2 en 2.\"\"\"\n",
    "my_other_range = range(0, 7, 2)\n",
    "\n",
    "\"\"\"Si realizamos un for loop en nuestro rango\n",
    "e imprimimos el valor de i veremos\n",
    "que nos imprime desde el 0 al 6\n",
    "saltando de 2 en 2.\"\"\"\n",
    "for i in my_other_range:\n",
    "    print(i)"
   ]
  },
  {
   "cell_type": "code",
   "execution_count": 44,
   "metadata": {},
   "outputs": [
    {
     "name": "stdout",
     "output_type": "stream",
     "text": [
      "0\n",
      "2\n",
      "4\n",
      "6\n"
     ]
    }
   ],
   "source": [
    "\"\"\"Creamos un rango del 0 al 8\"\"\"\n",
    "another_range = range(0, 8, 2)\n",
    "\n",
    "\"\"\"Si realizamos un for loop en nuestro rango\n",
    "e imprimimos el valor de i veremos\n",
    "que nos imprime desde el 0 al 6\n",
    "saltando de 2 en 2. El 8 no se imprime, ya que el último número del el rango no se incluye.\"\"\"\n",
    "for i in my_other_range:\n",
    "    print(i)"
   ]
  },
  {
   "cell_type": "code",
   "execution_count": 49,
   "metadata": {},
   "outputs": [
    {
     "data": {
      "text/plain": [
       "1"
      ]
     },
     "execution_count": 49,
     "metadata": {},
     "output_type": "execute_result"
    }
   ],
   "source": [
    "\"\"\"Vamos a generar nuestra primera lista\"\"\"\n",
    "my_list = [1, 2, 3]\n",
    "\n",
    "\"\"\"Para acceder al primer índice lo haremos de la siguiente forma\"\"\"\n",
    "my_list[0]"
   ]
  },
  {
   "cell_type": "code",
   "execution_count": 50,
   "metadata": {},
   "outputs": [
    {
     "data": {
      "text/plain": [
       "[2, 3]"
      ]
     },
     "execution_count": 50,
     "metadata": {},
     "output_type": "execute_result"
    }
   ],
   "source": [
    "\"\"\"Si queremos utilizar la notación de slices (dividir) definimos los\n",
    "índices en los que dividiremos nuestra lista.\"\"\"\n",
    "\n",
    "\"\"\"Aquí llamaremos desde el 2do índice hasta el final.\"\"\"\n",
    "my_list[1:]"
   ]
  },
  {
   "cell_type": "code",
   "execution_count": 51,
   "metadata": {},
   "outputs": [
    {
     "name": "stdout",
     "output_type": "stream",
     "text": [
      "[1, 2, 3, 4]\n"
     ]
    }
   ],
   "source": [
    "\"\"\"Para agregar un ítem a nuestra lista lo haremos con la función append\"\"\"\n",
    "my_list.append(4)\n",
    "\n",
    "\"\"\"Ahora la lista tendrá 4 objetos.\"\"\"\n",
    "print(my_list)"
   ]
  },
  {
   "cell_type": "code",
   "execution_count": 52,
   "metadata": {},
   "outputs": [
    {
     "name": "stdout",
     "output_type": "stream",
     "text": [
      "['a', 2, 3, 4]\n"
     ]
    }
   ],
   "source": [
    "\"\"\"Para modificar un elemento podemos hacerlo\n",
    "referenciando su índice\"\"\"\n",
    "my_list[0] = 'a'\n",
    "print(my_list)"
   ]
  },
  {
   "cell_type": "code",
   "execution_count": 53,
   "metadata": {},
   "outputs": [
    {
     "name": "stdout",
     "output_type": "stream",
     "text": [
      "['a', 2, 3]\n"
     ]
    }
   ],
   "source": [
    "\"\"\"El método pop eliminara el último elemento de nuestra lista\"\"\"\n",
    "my_list.pop()\n",
    "4\n",
    "\n",
    "print(my_list)"
   ]
  },
  {
   "cell_type": "code",
   "execution_count": 54,
   "metadata": {},
   "outputs": [
    {
     "data": {
      "text/plain": [
       "'Por esto debes tener mucho ojo al modificar las listas.'"
      ]
     },
     "execution_count": 54,
     "metadata": {},
     "output_type": "execute_result"
    }
   ],
   "source": [
    "\"\"\"Cuando una variable hace referencia a una lista\n",
    "significa que apunta al mismo espacio en memoria,\n",
    "esto significa que si cambia la lista se vera reflejado\n",
    "en todas sus referencias, esto es un side effect\"\"\"\n",
    "\n",
    "\"\"\"Creamos la lista a\"\"\"\n",
    "a = [1, 2, 3]\n",
    "\n",
    "\"\"\"Creamos la lista b que hará referencia a la lista a\"\"\"\n",
    "b = a\n",
    "\n",
    "\"\"\"Si imprimimos las listas serán iguales\"\"\"\n",
    "a\n",
    "[1, 2, 3]\n",
    "\n",
    "b\n",
    "[1, 2, 3]\n",
    "\n",
    "\"\"\"Si agrego un objeto a la lista a también se\n",
    "vera reflejado en b\"\"\"\n",
    "a.append(4)\n",
    "\n",
    "a\n",
    "[1, 2, 3, 4]\n",
    "\n",
    "b\n",
    "[1, 2, 3, 4]\n",
    "\n",
    "\"\"\"Por esto debes tener mucho ojo al modificar las listas.\"\"\""
   ]
  },
  {
   "cell_type": "code",
   "execution_count": 59,
   "metadata": {},
   "outputs": [
    {
     "data": {
      "text/plain": [
       "[1, 2, 3]"
      ]
     },
     "execution_count": 59,
     "metadata": {},
     "output_type": "execute_result"
    }
   ],
   "source": [
    "\"\"\"Crearemos una lista a\"\"\"\n",
    "a = [1, 2, 3]\n",
    "\n",
    "\"\"\"Con la variable b clonaremos la lista a\"\"\"\n",
    "b = list(a)\n",
    "\n",
    "#\"\"\"Si removemos el último elemento de a\n",
    "#no se vera reflejado en b\"\"\"\n",
    "a.pop()\n",
    "\n",
    "\n",
    "#\"\"\"Veamos los elementos de a\"\"\"\n",
    "a\n",
    "\n",
    "\n",
    "#\"\"\"Y los elementos de b\"\"\"\n",
    "b\n"
   ]
  },
  {
   "cell_type": "code",
   "execution_count": 60,
   "metadata": {},
   "outputs": [
    {
     "data": {
      "text/plain": [
       "[0, 1, 2, 3, 4, 5, 6, 7, 8, 9]"
      ]
     },
     "execution_count": 60,
     "metadata": {},
     "output_type": "execute_result"
    }
   ],
   "source": [
    "\"\"\"Vamos a crear una lista con una operacion de range\"\"\"\n",
    "my_list = list(range(10))\n",
    "\n",
    "\n",
    "\"\"\"Si revisamos que contiene veremos que tiene todos\n",
    "los números desde el 0 al 9\"\"\"\n",
    "my_list"
   ]
  },
  {
   "cell_type": "code",
   "execution_count": 62,
   "metadata": {},
   "outputs": [
    {
     "data": {
      "text/plain": [
       "[0, 2, 4, 6, 8, 10, 12, 14, 16, 18]"
      ]
     },
     "execution_count": 62,
     "metadata": {},
     "output_type": "execute_result"
    }
   ],
   "source": [
    "\"\"\"Ahora aplicaremos un list comprehension en donde\n",
    "vamos a multiplicar * 2 cada uno de los elementos\"\"\"\n",
    "lista2 = [i * 2 for i in my_list]\n",
    "\n",
    "\n",
    "\"\"\"Y si revisamos los elementos de la lista veremos\"\"\"\n",
    "lista2"
   ]
  },
  {
   "cell_type": "code",
   "execution_count": 64,
   "metadata": {},
   "outputs": [
    {
     "data": {
      "text/plain": [
       "[1, 3, 5, 7, 9]"
      ]
     },
     "execution_count": 64,
     "metadata": {},
     "output_type": "execute_result"
    }
   ],
   "source": [
    "\"\"\"Otro ejemplo de list comprehension puede ser\n",
    "solo tomar los numeros pares de nuestra lista\"\"\"\n",
    "pares = [i for i in my_list if i % 2 == 0]\n",
    "\n",
    "\n",
    "\"\"\"Y si revisamos los elementos de la lista veremos\"\"\"\n",
    "pares"
   ]
  },
  {
   "cell_type": "code",
   "execution_count": 70,
   "metadata": {},
   "outputs": [
    {
     "data": {
      "text/plain": [
       "'hider'"
      ]
     },
     "execution_count": 70,
     "metadata": {},
     "output_type": "execute_result"
    }
   ],
   "source": [
    "\"\"\"Creamos un diccionario utilizando los símbolos {} y debemos\n",
    "darle un nombre a cada llave\"\"\"\n",
    "my_dict = {\n",
    "    'nombre': 'hider',\n",
    "    'apellido': 'rosero',\n",
    "    'edad': 34\n",
    "}\n",
    "\n",
    "\n",
    "\"\"\"Para acceder algún dato de nuestro diccionario simplemente\n",
    "llamamos nuestro diccionario y la llave\"\"\"\n",
    "my_dict['nombre']\n"
   ]
  },
  {
   "cell_type": "code",
   "execution_count": 77,
   "metadata": {},
   "outputs": [
    {
     "data": {
      "text/plain": [
       "'hider'"
      ]
     },
     "execution_count": 77,
     "metadata": {},
     "output_type": "execute_result"
    }
   ],
   "source": [
    "\"\"\"Si queremos acceder a una llave pero la llave no existe, \n",
    "podemos definir que nos devuelva una respuesta predeterminada\"\"\"\n",
    "my_dict.get('email', 30)\n",
    "\n",
    "\n",
    "\n",
    "\"\"\"Si llamamos una llave válida tendremos su valor\"\"\"\n",
    "my_dict.get('nombre', 30)"
   ]
  },
  {
   "cell_type": "code",
   "execution_count": 78,
   "metadata": {},
   "outputs": [
    {
     "data": {
      "text/plain": [
       "{'nombre': 'hider', 'apellido': 'rosero', 'edad': 30}"
      ]
     },
     "execution_count": 78,
     "metadata": {},
     "output_type": "execute_result"
    }
   ],
   "source": [
    "\n",
    "\"\"\"Para reasignar un valor simplemente lo hacemos\n",
    "referenciando su llave\"\"\"\n",
    "\n",
    "my_dict\n",
    "{'nombre': 'Karl', 'apellido': 'Behrens', 'edad': 26}\n",
    "\n",
    "my_dict['edad'] = 30\n",
    "\n",
    "\"\"\"Vemos que la el valor de edad cambio\"\"\"\n",
    "\n",
    "my_dict"
   ]
  },
  {
   "cell_type": "code",
   "execution_count": 79,
   "metadata": {},
   "outputs": [
    {
     "data": {
      "text/plain": [
       "{'nombre': 'hider', 'apellido': 'rosero'}"
      ]
     },
     "execution_count": 79,
     "metadata": {},
     "output_type": "execute_result"
    }
   ],
   "source": [
    "\"\"\"Si queremos eliminar un elemento lo\n",
    "haremos con el método del y referenciado su llave\"\"\"\n",
    "\n",
    "del my_dict['edad']\n",
    "\n",
    "my_dict"
   ]
  },
  {
   "cell_type": "code",
   "execution_count": 82,
   "metadata": {},
   "outputs": [
    {
     "name": "stdout",
     "output_type": "stream",
     "text": [
      "nombre\n",
      "apellido\n",
      "hider\n",
      "rosero\n",
      "nombre hider\n",
      "apellido rosero\n"
     ]
    }
   ],
   "source": [
    "\"\"\"Para obtener las llaves de nuestro diccionario\n",
    "realizamos un método for loop.\"\"\"\n",
    "\n",
    "for llave in my_dict.keys():\n",
    "    print(llave)\n",
    "\n",
    "\n",
    "for valor in my_dict.values():\n",
    "    print(valor)\n",
    "\n",
    "for llave, valor in my_dict.items():\n",
    "    print(llave, valor)"
   ]
  },
  {
   "cell_type": "code",
   "execution_count": 83,
   "metadata": {},
   "outputs": [
    {
     "data": {
      "text/plain": [
       "True"
      ]
     },
     "execution_count": 83,
     "metadata": {},
     "output_type": "execute_result"
    }
   ],
   "source": [
    "\"\"\"Si deseamos revisar si una llave existe en nuestro diccionario\n",
    "lo hacemos con un in\"\"\"\n",
    "\n",
    "'email' in my_dict\n",
    "False\n",
    "\n",
    "\n",
    "'apellido' in my_dict\n",
    "True"
   ]
  },
  {
   "cell_type": "code",
   "execution_count": null,
   "metadata": {},
   "outputs": [],
   "source": []
  }
 ],
 "metadata": {
  "kernelspec": {
   "display_name": "Python 3",
   "language": "python",
   "name": "python3"
  },
  "language_info": {
   "codemirror_mode": {
    "name": "ipython",
    "version": 3
   },
   "file_extension": ".py",
   "mimetype": "text/x-python",
   "name": "python",
   "nbconvert_exporter": "python",
   "pygments_lexer": "ipython3",
   "version": "3.11.-1"
  },
  "orig_nbformat": 4
 },
 "nbformat": 4,
 "nbformat_minor": 2
}
